{
 "cells": [
  {
   "cell_type": "code",
   "execution_count": null,
   "metadata": {},
   "outputs": [],
   "source": [
    "from __future__ import print_function\n",
    "\n",
    "import keras\n",
    "from keras.datasets import mnist\n",
    "from keras.utils import np_utils\n",
    "from keras.models import Sequential\n",
    "from keras.layers import Dense, Activation\n",
    "from keras.layers import SimpleRNN\n",
    "from keras import initializers\n",
    "from keras.optimizers import RMSprop"
   ]
  },
  {
   "cell_type": "code",
   "execution_count": 3,
   "metadata": {},
   "outputs": [
    {
     "name": "stdout",
     "output_type": "stream",
     "text": [
      "(60000, 28, 28)\n",
      "(60000,)\n",
      "(60000, 784)\n",
      "(60000, 10)\n"
     ]
    }
   ],
   "source": [
    "(x_train, y_train), (x_test, y_test) = mnist.load_data()\n",
    "print(x_train.shape)\n",
    "print(y_train.shape)\n",
    "x_train = x_train.reshape(x_train.shape[0], -1)\n",
    "y_train = np_utils.to_categorical(y_train)\n",
    "x_test = x_test.reshape(x_test.shape[0], -1)\n",
    "y_test = np_utils.to_categorical(y_test)\n",
    "print(x_train.shape)\n",
    "print(y_train.shape)"
   ]
  },
  {
   "cell_type": "code",
   "execution_count": 4,
   "metadata": {},
   "outputs": [],
   "source": [
    "batch_size = 32\n",
    "num_classes = 10\n",
    "epochs = 100\n",
    "hidden_units = 100\n",
    "\n",
    "learning_rate = 1e-6\n",
    "clip_norm = 1.0"
   ]
  },
  {
   "cell_type": "code",
   "execution_count": null,
   "metadata": {},
   "outputs": [
    {
     "name": "stdout",
     "output_type": "stream",
     "text": [
      "Train on 60000 samples, validate on 10000 samples\n",
      "Epoch 1/100\n",
      "60000/60000 [==============================] - 4s 70us/step - loss: 10.4240 - acc: 0.3515 - val_loss: 9.7788 - val_acc: 0.3919\n",
      "Epoch 2/100\n",
      "60000/60000 [==============================] - 4s 63us/step - loss: 9.1785 - acc: 0.4294 - val_loss: 9.0522 - val_acc: 0.4379\n",
      "Epoch 3/100\n",
      "60000/60000 [==============================] - 4s 62us/step - loss: 9.1093 - acc: 0.4342 - val_loss: 9.2755 - val_acc: 0.4239\n",
      "Epoch 4/100\n",
      "60000/60000 [==============================] - 4s 60us/step - loss: 9.2017 - acc: 0.4286 - val_loss: 9.2575 - val_acc: 0.4252\n",
      "Epoch 5/100\n",
      "60000/60000 [==============================] - 4s 61us/step - loss: 9.0079 - acc: 0.4408 - val_loss: 9.1980 - val_acc: 0.4289\n",
      "Epoch 6/100\n",
      "60000/60000 [==============================] - 4s 60us/step - loss: 9.1982 - acc: 0.4290 - val_loss: 9.1202 - val_acc: 0.4340\n",
      "Epoch 7/100\n",
      "60000/60000 [==============================] - 4s 61us/step - loss: 9.1295 - acc: 0.4334 - val_loss: 9.0050 - val_acc: 0.4411\n",
      "Epoch 8/100\n",
      "60000/60000 [==============================] - 4s 61us/step - loss: 9.2157 - acc: 0.4280 - val_loss: 9.3822 - val_acc: 0.4177\n",
      "Epoch 9/100\n",
      "60000/60000 [==============================] - 4s 61us/step - loss: 9.0101 - acc: 0.4409 - val_loss: 8.9581 - val_acc: 0.4441\n",
      "Epoch 10/100\n",
      "60000/60000 [==============================] - 4s 61us/step - loss: 9.2903 - acc: 0.4234 - val_loss: 9.6990 - val_acc: 0.3980\n",
      "Epoch 11/100\n",
      "60000/60000 [==============================] - 4s 60us/step - loss: 9.0705 - acc: 0.4371 - val_loss: 9.4870 - val_acc: 0.4113\n",
      "Epoch 12/100\n",
      "60000/60000 [==============================] - 4s 59us/step - loss: 9.2551 - acc: 0.4257 - val_loss: 9.1235 - val_acc: 0.4339\n",
      "Epoch 13/100\n",
      "60000/60000 [==============================] - 4s 60us/step - loss: 9.3014 - acc: 0.4228 - val_loss: 9.0352 - val_acc: 0.4394\n",
      "Epoch 14/100\n",
      "60000/60000 [==============================] - 4s 63us/step - loss: 9.1603 - acc: 0.4316 - val_loss: 9.0637 - val_acc: 0.4376\n",
      "Epoch 15/100\n",
      "60000/60000 [==============================] - 4s 59us/step - loss: 9.2564 - acc: 0.4256 - val_loss: 9.0138 - val_acc: 0.4406\n",
      "Epoch 16/100\n",
      "60000/60000 [==============================] - 4s 61us/step - loss: 9.0929 - acc: 0.4357 - val_loss: 9.2106 - val_acc: 0.4285\n",
      "Epoch 17/100\n",
      "60000/60000 [==============================] - 4s 71us/step - loss: 9.0990 - acc: 0.4354 - val_loss: 9.0525 - val_acc: 0.4383\n",
      "Epoch 18/100\n",
      "60000/60000 [==============================] - 5s 76us/step - loss: 9.0481 - acc: 0.4386 - val_loss: 8.9826 - val_acc: 0.4427\n",
      "Epoch 19/100\n",
      "60000/60000 [==============================] - 5s 79us/step - loss: 9.1883 - acc: 0.4299 - val_loss: 9.5764 - val_acc: 0.4057\n",
      "Epoch 20/100\n",
      "60000/60000 [==============================] - 4s 68us/step - loss: 9.4103 - acc: 0.4161 - val_loss: 9.0697 - val_acc: 0.4373\n",
      "Epoch 21/100\n",
      "60000/60000 [==============================] - 4s 69us/step - loss: 8.9982 - acc: 0.4417 - val_loss: 9.7574 - val_acc: 0.3945\n",
      "Epoch 22/100\n",
      "60000/60000 [==============================] - 4s 66us/step - loss: 9.2642 - acc: 0.4252 - val_loss: 10.2556 - val_acc: 0.3637\n",
      "Epoch 23/100\n",
      "60000/60000 [==============================] - 4s 73us/step - loss: 9.1481 - acc: 0.4324 - val_loss: 9.0976 - val_acc: 0.4355\n",
      "Epoch 24/100\n",
      "60000/60000 [==============================] - 5s 75us/step - loss: 9.4830 - acc: 0.4115 - val_loss: 9.6819 - val_acc: 0.3993\n",
      "Epoch 25/100\n",
      "60000/60000 [==============================] - 5s 76us/step - loss: 9.1817 - acc: 0.4302 - val_loss: 10.2944 - val_acc: 0.3612\n",
      "Epoch 26/100\n",
      "22016/60000 [==========>...................] - ETA: 2s - loss: 9.6085 - acc: 0.4037"
     ]
    }
   ],
   "source": [
    "model = Sequential()\n",
    "model.add(Dense(20, input_shape=(x_train.shape[1:])))\n",
    "model.add(Dense(num_classes))\n",
    "model.add(Dense(10))\n",
    "model.add(Dense(10))\n",
    "model.add(Dense(10))\n",
    "model.add(Activation('softmax'))\n",
    "model.compile(optimizer='adam', loss='categorical_crossentropy', metrics=['accuracy'])\n",
    "model.fit(x_train, y_train,\n",
    "          batch_size=batch_size,\n",
    "          epochs=epochs,\n",
    "          verbose=1,\n",
    "          validation_data=(x_test, y_test))\n",
    "\n",
    "\n"
   ]
  },
  {
   "cell_type": "code",
   "execution_count": 46,
   "metadata": {},
   "outputs": [
    {
     "name": "stdout",
     "output_type": "stream",
     "text": [
      "6.0792326179504395\n",
      "0.6211\n"
     ]
    }
   ],
   "source": [
    "v1,v2 = model.evaluate(x_test, y_test, verbose=0)\n",
    "print(scores[0])\n",
    "print(scores[1])"
   ]
  },
  {
   "cell_type": "code",
   "execution_count": 47,
   "metadata": {},
   "outputs": [
    {
     "name": "stdout",
     "output_type": "stream",
     "text": [
      "_________________________________________________________________\n",
      "Layer (type)                 Output Shape              Param #   \n",
      "=================================================================\n",
      "dense_13 (Dense)             (None, 10)                7850      \n",
      "_________________________________________________________________\n",
      "activation_8 (Activation)    (None, 10)                0         \n",
      "=================================================================\n",
      "Total params: 7,850\n",
      "Trainable params: 7,850\n",
      "Non-trainable params: 0\n",
      "_________________________________________________________________\n"
     ]
    }
   ],
   "source": [
    "model.summary()"
   ]
  },
  {
   "cell_type": "code",
   "execution_count": 48,
   "metadata": {},
   "outputs": [
    {
     "ename": "SyntaxError",
     "evalue": "invalid syntax (<ipython-input-48-a4aa11ab5b37>, line 1)",
     "output_type": "error",
     "traceback": [
      "\u001b[1;36m  File \u001b[1;32m\"<ipython-input-48-a4aa11ab5b37>\"\u001b[1;36m, line \u001b[1;32m1\u001b[0m\n\u001b[1;33m    model.add(Dense(20,input_shape=(x_train.shape[],)))\u001b[0m\n\u001b[1;37m                                                  ^\u001b[0m\n\u001b[1;31mSyntaxError\u001b[0m\u001b[1;31m:\u001b[0m invalid syntax\n"
     ]
    }
   ],
   "source": [
    "model.add(Dense(20,input_shape=(x_train.shape[],)))"
   ]
  },
  {
   "cell_type": "code",
   "execution_count": 43,
   "metadata": {},
   "outputs": [
    {
     "name": "stdout",
     "output_type": "stream",
     "text": [
      "_________________________________________________________________\n",
      "Layer (type)                 Output Shape              Param #   \n",
      "=================================================================\n",
      "dense_7 (Dense)              (None, 10)                7850      \n",
      "_________________________________________________________________\n",
      "activation_7 (Activation)    (None, 10)                0         \n",
      "_________________________________________________________________\n",
      "dense_8 (Dense)              (None, 20)                220       \n",
      "_________________________________________________________________\n",
      "dense_9 (Dense)              (None, 20)                420       \n",
      "_________________________________________________________________\n",
      "dense_10 (Dense)             (None, 20)                420       \n",
      "_________________________________________________________________\n",
      "dense_11 (Dense)             (None, 20)                420       \n",
      "=================================================================\n",
      "Total params: 7,850\n",
      "Trainable params: 7,850\n",
      "Non-trainable params: 0\n",
      "_________________________________________________________________\n"
     ]
    }
   ],
   "source": [
    "model.summary()"
   ]
  },
  {
   "cell_type": "code",
   "execution_count": null,
   "metadata": {},
   "outputs": [],
   "source": []
  }
 ],
 "metadata": {
  "kernelspec": {
   "display_name": "Python 3",
   "language": "python",
   "name": "python3"
  },
  "language_info": {
   "codemirror_mode": {
    "name": "ipython",
    "version": 3
   },
   "file_extension": ".py",
   "mimetype": "text/x-python",
   "name": "python",
   "nbconvert_exporter": "python",
   "pygments_lexer": "ipython3",
   "version": "3.6.6"
  }
 },
 "nbformat": 4,
 "nbformat_minor": 2
}
