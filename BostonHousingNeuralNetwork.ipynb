{
 "cells": [
  {
   "cell_type": "code",
   "execution_count": 3,
   "metadata": {},
   "outputs": [],
   "source": [
    "from __future__ import print_function\n",
    "import keras\n",
    "from keras.datasets import mnist\n",
    "from keras.utils import np_utils\n",
    "from keras.models import Sequential\n",
    "from keras.layers import Dense, Activation"
   ]
  },
  {
   "cell_type": "code",
   "execution_count": 4,
   "metadata": {},
   "outputs": [],
   "source": [
    "from keras.datasets import boston_housing\n",
    "(x_train, y_train), (x_test, y_test) = boston_housing.load_data()"
   ]
  },
  {
   "cell_type": "code",
   "execution_count": null,
   "metadata": {},
   "outputs": [],
   "source": []
  },
  {
   "cell_type": "code",
   "execution_count": null,
   "metadata": {},
   "outputs": [],
   "source": []
  },
  {
   "cell_type": "code",
   "execution_count": 5,
   "metadata": {},
   "outputs": [
    {
     "name": "stdout",
     "output_type": "stream",
     "text": [
      "(404, 13)\n",
      "(404,)\n",
      "(102, 13)\n",
      "(102,)\n"
     ]
    }
   ],
   "source": [
    "import numpy as np\n",
    "print(x_train.shape)\n",
    "print(y_train.shape)\n",
    "print(x_test.shape)\n",
    "print(y_test.shape)\n",
    "x_train=np.asarray(x_train)\n",
    "y_train=np.asarray(y_train)\n",
    "x_test=np.asarray(x_test)\n",
    "y_test=np.asarray(y_test)"
   ]
  },
  {
   "cell_type": "code",
   "execution_count": 6,
   "metadata": {},
   "outputs": [],
   "source": [
    "batch_size = 1\n",
    "num_classes = 10\n",
    "epochs = 100\n",
    "hidden_units = 100\n",
    "learning_rate = 1e-6\n",
    "clip_norm = 1.0"
   ]
  },
  {
   "cell_type": "code",
   "execution_count": 5,
   "metadata": {},
   "outputs": [],
   "source": []
  },
  {
   "cell_type": "code",
   "execution_count": 17,
   "metadata": {},
   "outputs": [
    {
     "name": "stdout",
     "output_type": "stream",
     "text": [
      "Train on 404 samples, validate on 102 samples\n",
      "Epoch 1/100\n",
      "404/404 [==============================] - 1s 3ms/step - loss: 625.4384 - val_loss: 589.0766\n",
      "Epoch 2/100\n",
      "404/404 [==============================] - 0s 121us/step - loss: 526.0106 - val_loss: 483.8288\n",
      "Epoch 3/100\n",
      "404/404 [==============================] - 0s 114us/step - loss: 326.4199 - val_loss: 175.6377\n",
      "Epoch 4/100\n",
      "404/404 [==============================] - 0s 123us/step - loss: 123.4834 - val_loss: 122.5417\n",
      "Epoch 5/100\n",
      "404/404 [==============================] - 0s 118us/step - loss: 95.7832 - val_loss: 93.6193\n",
      "Epoch 6/100\n",
      "404/404 [==============================] - 0s 114us/step - loss: 78.0602 - val_loss: 77.9371\n",
      "Epoch 7/100\n",
      "404/404 [==============================] - 0s 116us/step - loss: 69.5804 - val_loss: 70.2759\n",
      "Epoch 8/100\n",
      "404/404 [==============================] - 0s 111us/step - loss: 63.4662 - val_loss: 64.7332\n",
      "Epoch 9/100\n",
      "404/404 [==============================] - 0s 106us/step - loss: 61.0252 - val_loss: 61.4580\n",
      "Epoch 10/100\n",
      "404/404 [==============================] - 0s 128us/step - loss: 59.6784 - val_loss: 60.2372\n",
      "Epoch 11/100\n",
      "404/404 [==============================] - 0s 123us/step - loss: 58.8578 - val_loss: 59.3834\n",
      "Epoch 12/100\n",
      "404/404 [==============================] - 0s 124us/step - loss: 58.4275 - val_loss: 61.1952\n",
      "Epoch 13/100\n",
      "404/404 [==============================] - 0s 134us/step - loss: 57.7549 - val_loss: 59.0746\n",
      "Epoch 14/100\n",
      "404/404 [==============================] - 0s 133us/step - loss: 55.4984 - val_loss: 57.0577\n",
      "Epoch 15/100\n",
      "404/404 [==============================] - 0s 138us/step - loss: 54.8229 - val_loss: 58.0891\n",
      "Epoch 16/100\n",
      "404/404 [==============================] - 0s 128us/step - loss: 53.1690 - val_loss: 56.7713\n",
      "Epoch 17/100\n",
      "404/404 [==============================] - 0s 126us/step - loss: 54.4860 - val_loss: 56.7902\n",
      "Epoch 18/100\n",
      "404/404 [==============================] - 0s 118us/step - loss: 51.7886 - val_loss: 57.9945\n",
      "Epoch 19/100\n",
      "404/404 [==============================] - 0s 136us/step - loss: 51.7927 - val_loss: 63.0616\n",
      "Epoch 20/100\n",
      "404/404 [==============================] - 0s 133us/step - loss: 55.5561 - val_loss: 57.9092\n",
      "Epoch 21/100\n",
      "404/404 [==============================] - 0s 138us/step - loss: 52.4051 - val_loss: 51.5955\n",
      "Epoch 22/100\n",
      "404/404 [==============================] - 0s 130us/step - loss: 50.2781 - val_loss: 52.1732\n",
      "Epoch 23/100\n",
      "404/404 [==============================] - 0s 114us/step - loss: 48.4004 - val_loss: 49.8466\n",
      "Epoch 24/100\n",
      "404/404 [==============================] - 0s 121us/step - loss: 46.3476 - val_loss: 49.8976\n",
      "Epoch 25/100\n",
      "404/404 [==============================] - 0s 118us/step - loss: 43.8177 - val_loss: 47.8271\n",
      "Epoch 26/100\n",
      "404/404 [==============================] - 0s 128us/step - loss: 42.5133 - val_loss: 46.8038\n",
      "Epoch 27/100\n",
      "404/404 [==============================] - 0s 118us/step - loss: 41.8177 - val_loss: 44.8933\n",
      "Epoch 28/100\n",
      "404/404 [==============================] - 0s 128us/step - loss: 40.4983 - val_loss: 43.5583\n",
      "Epoch 29/100\n",
      "404/404 [==============================] - 0s 123us/step - loss: 41.9078 - val_loss: 49.3689\n",
      "Epoch 30/100\n",
      "404/404 [==============================] - 0s 104us/step - loss: 40.6319 - val_loss: 47.8652\n",
      "Epoch 31/100\n",
      "404/404 [==============================] - 0s 118us/step - loss: 39.5725 - val_loss: 42.3512\n",
      "Epoch 32/100\n",
      "404/404 [==============================] - 0s 126us/step - loss: 37.7944 - val_loss: 44.5926\n",
      "Epoch 33/100\n",
      "404/404 [==============================] - 0s 126us/step - loss: 35.6485 - val_loss: 41.4034\n",
      "Epoch 34/100\n",
      "404/404 [==============================] - 0s 148us/step - loss: 36.0781 - val_loss: 43.2481\n",
      "Epoch 35/100\n",
      "404/404 [==============================] - 0s 131us/step - loss: 35.3191 - val_loss: 42.2155\n",
      "Epoch 36/100\n",
      "404/404 [==============================] - 0s 126us/step - loss: 33.8865 - val_loss: 37.4618\n",
      "Epoch 37/100\n",
      "404/404 [==============================] - 0s 111us/step - loss: 30.5858 - val_loss: 37.1505\n",
      "Epoch 38/100\n",
      "404/404 [==============================] - 0s 121us/step - loss: 29.3196 - val_loss: 36.2365\n",
      "Epoch 39/100\n",
      "404/404 [==============================] - 0s 111us/step - loss: 28.7099 - val_loss: 38.9756\n",
      "Epoch 40/100\n",
      "404/404 [==============================] - 0s 118us/step - loss: 28.6805 - val_loss: 36.6438\n",
      "Epoch 41/100\n",
      "404/404 [==============================] - 0s 120us/step - loss: 30.3703 - val_loss: 36.7485\n",
      "Epoch 42/100\n",
      "404/404 [==============================] - 0s 133us/step - loss: 32.7127 - val_loss: 37.6471\n",
      "Epoch 43/100\n",
      "404/404 [==============================] - 0s 121us/step - loss: 26.3698 - val_loss: 34.4158\n",
      "Epoch 44/100\n",
      "404/404 [==============================] - 0s 128us/step - loss: 25.6801 - val_loss: 35.3654\n",
      "Epoch 45/100\n",
      "404/404 [==============================] - 0s 128us/step - loss: 24.0242 - val_loss: 36.0143\n",
      "Epoch 46/100\n",
      "404/404 [==============================] - 0s 114us/step - loss: 24.2206 - val_loss: 34.0053\n",
      "Epoch 47/100\n",
      "404/404 [==============================] - 0s 114us/step - loss: 22.9656 - val_loss: 33.3037\n",
      "Epoch 48/100\n",
      "404/404 [==============================] - 0s 121us/step - loss: 23.6095 - val_loss: 32.5000\n",
      "Epoch 49/100\n",
      "404/404 [==============================] - 0s 116us/step - loss: 24.8294 - val_loss: 33.9931\n",
      "Epoch 50/100\n",
      "404/404 [==============================] - 0s 131us/step - loss: 25.9556 - val_loss: 32.6935\n",
      "Epoch 51/100\n",
      "404/404 [==============================] - 0s 117us/step - loss: 22.8182 - val_loss: 33.4875\n",
      "Epoch 52/100\n",
      "404/404 [==============================] - 0s 141us/step - loss: 20.9868 - val_loss: 33.9880\n",
      "Epoch 53/100\n",
      "404/404 [==============================] - 0s 133us/step - loss: 20.4802 - val_loss: 32.4155\n",
      "Epoch 54/100\n",
      "404/404 [==============================] - 0s 173us/step - loss: 21.0537 - val_loss: 33.9662\n",
      "Epoch 55/100\n",
      "404/404 [==============================] - 0s 133us/step - loss: 19.6085 - val_loss: 35.7869\n",
      "Epoch 56/100\n",
      "404/404 [==============================] - 0s 114us/step - loss: 19.6249 - val_loss: 39.8910\n",
      "Epoch 57/100\n",
      "404/404 [==============================] - 0s 116us/step - loss: 21.1596 - val_loss: 31.7679\n",
      "Epoch 58/100\n",
      "404/404 [==============================] - 0s 112us/step - loss: 22.7212 - val_loss: 33.5615\n",
      "Epoch 59/100\n",
      "404/404 [==============================] - 0s 113us/step - loss: 18.9245 - val_loss: 30.5704\n",
      "Epoch 60/100\n",
      "404/404 [==============================] - 0s 104us/step - loss: 21.5639 - val_loss: 41.4417\n",
      "Epoch 61/100\n",
      "404/404 [==============================] - 0s 101us/step - loss: 20.6875 - val_loss: 34.1669\n",
      "Epoch 62/100\n",
      "404/404 [==============================] - 0s 109us/step - loss: 22.1599 - val_loss: 31.8523\n",
      "Epoch 63/100\n",
      "404/404 [==============================] - 0s 116us/step - loss: 17.8368 - val_loss: 31.6240\n",
      "Epoch 64/100\n",
      "404/404 [==============================] - 0s 114us/step - loss: 18.2780 - val_loss: 33.0944\n",
      "Epoch 65/100\n",
      "404/404 [==============================] - 0s 114us/step - loss: 17.2532 - val_loss: 38.9397\n",
      "Epoch 66/100\n",
      "404/404 [==============================] - 0s 111us/step - loss: 21.0946 - val_loss: 35.0115\n",
      "Epoch 67/100\n",
      "404/404 [==============================] - 0s 133us/step - loss: 17.8633 - val_loss: 33.1648\n",
      "Epoch 68/100\n",
      "404/404 [==============================] - 0s 112us/step - loss: 19.1917 - val_loss: 30.8398\n",
      "Epoch 69/100\n",
      "404/404 [==============================] - 0s 113us/step - loss: 19.4589 - val_loss: 33.2070\n",
      "Epoch 70/100\n",
      "404/404 [==============================] - 0s 131us/step - loss: 17.2215 - val_loss: 32.0833\n",
      "Epoch 71/100\n",
      "404/404 [==============================] - 0s 126us/step - loss: 18.0987 - val_loss: 33.9567\n",
      "Epoch 72/100\n",
      "404/404 [==============================] - 0s 118us/step - loss: 19.4712 - val_loss: 30.8313\n",
      "Epoch 73/100\n",
      "404/404 [==============================] - 0s 116us/step - loss: 17.1478 - val_loss: 33.8943\n",
      "Epoch 74/100\n",
      "404/404 [==============================] - 0s 116us/step - loss: 17.5488 - val_loss: 31.9557\n",
      "Epoch 75/100\n",
      "404/404 [==============================] - 0s 109us/step - loss: 17.0259 - val_loss: 32.8570\n",
      "Epoch 76/100\n",
      "404/404 [==============================] - 0s 131us/step - loss: 16.4434 - val_loss: 34.6772\n",
      "Epoch 77/100\n",
      "404/404 [==============================] - 0s 133us/step - loss: 20.4764 - val_loss: 34.4971\n"
     ]
    },
    {
     "name": "stdout",
     "output_type": "stream",
     "text": [
      "Epoch 78/100\n",
      "404/404 [==============================] - 0s 128us/step - loss: 16.7788 - val_loss: 32.5406\n",
      "Epoch 79/100\n",
      "404/404 [==============================] - 0s 106us/step - loss: 18.6629 - val_loss: 38.7678\n",
      "Epoch 80/100\n",
      "404/404 [==============================] - 0s 122us/step - loss: 16.9029 - val_loss: 31.6978\n",
      "Epoch 81/100\n",
      "404/404 [==============================] - 0s 116us/step - loss: 17.5729 - val_loss: 31.1428\n",
      "Epoch 82/100\n",
      "404/404 [==============================] - 0s 123us/step - loss: 16.0704 - val_loss: 33.3984\n",
      "Epoch 83/100\n",
      "404/404 [==============================] - 0s 109us/step - loss: 17.4720 - val_loss: 31.3934\n",
      "Epoch 84/100\n",
      "404/404 [==============================] - 0s 108us/step - loss: 16.4008 - val_loss: 38.4469\n",
      "Epoch 85/100\n",
      "404/404 [==============================] - 0s 109us/step - loss: 16.6313 - val_loss: 30.5914\n",
      "Epoch 86/100\n",
      "404/404 [==============================] - 0s 121us/step - loss: 15.9151 - val_loss: 33.0537\n",
      "Epoch 87/100\n",
      "404/404 [==============================] - 0s 118us/step - loss: 20.2768 - val_loss: 32.1882\n",
      "Epoch 88/100\n",
      "404/404 [==============================] - 0s 101us/step - loss: 17.0633 - val_loss: 31.9424\n",
      "Epoch 89/100\n",
      "404/404 [==============================] - 0s 136us/step - loss: 17.4014 - val_loss: 38.9945\n",
      "Epoch 90/100\n",
      "404/404 [==============================] - 0s 143us/step - loss: 18.4324 - val_loss: 31.4924\n",
      "Epoch 91/100\n",
      "404/404 [==============================] - 0s 128us/step - loss: 21.0446 - val_loss: 33.7814\n",
      "Epoch 92/100\n",
      "404/404 [==============================] - 0s 119us/step - loss: 16.4226 - val_loss: 33.6071\n",
      "Epoch 93/100\n",
      "404/404 [==============================] - 0s 114us/step - loss: 15.6746 - val_loss: 33.2306\n",
      "Epoch 94/100\n",
      "404/404 [==============================] - 0s 114us/step - loss: 20.5801 - val_loss: 34.5874\n",
      "Epoch 95/100\n",
      "404/404 [==============================] - 0s 116us/step - loss: 15.6920 - val_loss: 32.2063\n",
      "Epoch 96/100\n",
      "404/404 [==============================] - 0s 116us/step - loss: 17.2932 - val_loss: 35.9610\n",
      "Epoch 97/100\n",
      "404/404 [==============================] - 0s 121us/step - loss: 15.8609 - val_loss: 31.0109\n",
      "Epoch 98/100\n",
      "404/404 [==============================] - 0s 124us/step - loss: 17.0361 - val_loss: 32.1231\n",
      "Epoch 99/100\n",
      "404/404 [==============================] - 0s 133us/step - loss: 15.5255 - val_loss: 31.7085\n",
      "Epoch 100/100\n",
      "404/404 [==============================] - 0s 121us/step - loss: 16.6854 - val_loss: 35.2145\n"
     ]
    },
    {
     "data": {
      "text/plain": [
       "<keras.callbacks.History at 0x29b74d0eeb8>"
      ]
     },
     "execution_count": 17,
     "metadata": {},
     "output_type": "execute_result"
    }
   ],
   "source": [
    "model = Sequential()\n",
    "model.add(Dense(13,activation='relu'))\n",
    "model.add(Dense(6,activation='relu'))\n",
    "model.add(Dense(14,activation='relu'))\n",
    "model.add(Dense(13,activation='relu'))\n",
    "model.add(Dense(6,activation='relu'))\n",
    "model.add(Dense(6,activation='relu'))\n",
    "model.add(Dense(6,activation='relu'))\n",
    "model.add(Dense(1))\n",
    "          \n",
    "model.compile(loss='mean_squared_error', optimizer='adam',accuracy='mse')\n",
    "model.fit(x_train, y_train,batch_size=16,epochs=epochs,verbose=1,validation_data=(x_test, y_test))\n",
    "\n",
    "\n"
   ]
  },
  {
   "cell_type": "code",
   "execution_count": 18,
   "metadata": {},
   "outputs": [],
   "source": [
    "y_predict = model.predict(x_test)"
   ]
  },
  {
   "cell_type": "code",
   "execution_count": 19,
   "metadata": {},
   "outputs": [],
   "source": [
    "from sklearn.metrics import mean_squared_error\n",
    "mse=mean_squared_error(y_predict,y_test)"
   ]
  },
  {
   "cell_type": "code",
   "execution_count": null,
   "metadata": {},
   "outputs": [],
   "source": []
  },
  {
   "cell_type": "code",
   "execution_count": 20,
   "metadata": {},
   "outputs": [
    {
     "name": "stdout",
     "output_type": "stream",
     "text": [
      "mse:- 35.21445018689714\n"
     ]
    },
    {
     "data": {
      "text/plain": [
       "[<matplotlib.lines.Line2D at 0x29b764e74a8>]"
      ]
     },
     "execution_count": 20,
     "metadata": {},
     "output_type": "execute_result"
    },
    {
     "data": {
      "image/png": "[encoded data removed]",
      "text/plain": [
       "<Figure size 432x288 with 1 Axes>"
      ]
     },
     "metadata": {
      "needs_background": "light"
     },
     "output_type": "display_data"
    }
   ],
   "source": [
    "import matplotlib.pyplot as plt\n",
    "print(\"mse:-\",mse)\n",
    "plt.plot(y_test,y_predict,'*')\n"
   ]
  },
  {
   "cell_type": "code",
   "execution_count": null,
   "metadata": {},
   "outputs": [],
   "source": []
  },
  {
   "cell_type": "code",
   "execution_count": null,
   "metadata": {},
   "outputs": [],
   "source": []
  }
 ],
 "metadata": {
  "kernelspec": {
   "display_name": "Python 3",
   "language": "python",
   "name": "python3"
  },
  "language_info": {
   "codemirror_mode": {
    "name": "ipython",
    "version": 3
   },
   "file_extension": ".py",
   "mimetype": "text/x-python",
   "name": "python",
   "nbconvert_exporter": "python",
   "pygments_lexer": "ipython3",
   "version": "3.6.6"
  }
 },
 "nbformat": 4,
 "nbformat_minor": 2
}
